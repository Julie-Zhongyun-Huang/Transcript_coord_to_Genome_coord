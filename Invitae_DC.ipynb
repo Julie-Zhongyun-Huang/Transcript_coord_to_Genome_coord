{
 "cells": [
  {
   "cell_type": "markdown",
   "metadata": {},
   "source": [
    "## Invitae Bfx Exercise B.3"
   ]
  },
  {
   "cell_type": "code",
   "execution_count": 1,
   "metadata": {
    "collapsed": true
   },
   "outputs": [],
   "source": [
    "import pandas as pd\n",
    "import re"
   ]
  },
  {
   "cell_type": "markdown",
   "metadata": {},
   "source": [
    "#### The complete set of scripts will include the following:\n",
    "#### 1. README file\n",
    "#### 2. src folder with .py scripts\n",
    "#### 3. testing example\n",
    "#### 4. ipython notebook to record process of thinking, explain possible strenght and weakness"
   ]
  },
  {
   "cell_type": "markdown",
   "metadata": {},
   "source": [
    "Design\n",
    "\n",
    "variables:\n",
    "1. hang: Input_file_1[2]\n",
    "2. tr_coord: Input_file_2[1]\n",
    "3. tr_remain: the remainig int in trascript that is yet aligned\n",
    "4. genome_output: the output in output_file[3]\n",
    "\n",
    "logic:\n",
    "1. the starting tr_remain is Input_file_2[1]\n",
    "   the starting genome_output is \"hang\"\n",
    "2. when M: \n",
    "    genome_output = hang + min(value_M, tr_remain)\n",
    "    tr_remain = tr_remain - min(tr_remain, value_M)\n",
    "   when D:\n",
    "    genome_output + = value_D\n",
    "   when I:\n",
    "    tr_remain = tr_remain - (value_I)\n",
    "    genome_output remains\n",
    " "
   ]
  },
  {
   "cell_type": "markdown",
   "metadata": {},
   "source": [
    "### Explore the CIGAR string conversion function"
   ]
  },
  {
   "cell_type": "code",
   "execution_count": 2,
   "metadata": {},
   "outputs": [
    {
     "name": "stdout",
     "output_type": "stream",
     "text": [
      "[('8', 'M'), ('7', 'D'), ('6', 'M'), ('2', 'I'), ('2', 'M'), ('11', 'D'), ('7', 'M')]\n"
     ]
    }
   ],
   "source": [
    "## CIGAR string parsing\n",
    "\n",
    "import re\n",
    "\n",
    "CIGAR = \"8M7D6M2I2M11D7M\"\n",
    "\n",
    "match = re.findall(r'(\\d+)(\\w)', CIGAR) # turn the CIGAR string into a list\n",
    "print (match)"
   ]
  },
  {
   "cell_type": "code",
   "execution_count": 3,
   "metadata": {},
   "outputs": [
    {
     "name": "stdout",
     "output_type": "stream",
     "text": [
      "int 8 Symbol M\n",
      "int 7 Symbol D\n",
      "int 6 Symbol M\n",
      "int 2 Symbol I\n",
      "int 2 Symbol M\n",
      "int 11 Symbol D\n",
      "int 7 Symbol M\n"
     ]
    }
   ],
   "source": [
    "for pair in match:\n",
    "    print(\"int\", pair[0], \"Symbol\", pair[1])"
   ]
  },
  {
   "cell_type": "markdown",
   "metadata": {},
   "source": [
    "### The main functions to convert the transcript coordinate to genome coordinate"
   ]
  },
  {
   "cell_type": "markdown",
   "metadata": {},
   "source": [
    "In the query, what if the transcript coordiante is too large?\n",
    "When the coord is larger than the total length of the cigar string (sum of M + I), need to return something to trigger error message\n",
    "\n",
    "Test case: tr_coord = \"100\""
   ]
  },
  {
   "cell_type": "code",
   "execution_count": 4,
   "metadata": {},
   "outputs": [],
   "source": [
    "# hang: Input_file_1[2]\n",
    "# cigar = Input_file_1[3]\n",
    "# tr_coord = Input_file_2[1]\n",
    "\n",
    "import pandas as pd\n",
    "import re\n",
    "\n",
    "def convert_cigar_string_to_list(cigar):\n",
    "    cigar_list = re.findall(r'(\\d+)(\\w)', cigar)\n",
    "    return cigar_list\n",
    "\n",
    "def transcript_coord_to_genome_coord(hang, cigar, tr_coord):\n",
    "    genome_output = int(hang) - 1 # accomodate for 0-based index\n",
    "    tr_remain = int(tr_coord) + 1 # accomodate for 0-based index\n",
    "    \n",
    "    cigar_list = convert_cigar_string_to_list(cigar)\n",
    "    for value, cigar_type in cigar_list:\n",
    "        if int(tr_remain) == 0:\n",
    "            break\n",
    "        if cigar_type == \"M\":\n",
    "            genome_output += min(int(value), tr_remain)\n",
    "            tr_remain -= min(tr_remain, int(value))\n",
    "        elif cigar_type == \"D\":\n",
    "            genome_output += int(value)\n",
    "        elif cigar_type == \"I\":\n",
    "            tr_remain -= min(tr_remain, int(value))\n",
    "    print(\"tr_remain\", tr_remain)\n",
    "    # when the tr_remain is not eventually 0, then \"tr_coord\" is too large, impossible to find matching genome coordinate\n",
    "    if tr_remain > 0:\n",
    "        return -1\n",
    "  \n",
    "    return str(genome_output)"
   ]
  },
  {
   "cell_type": "code",
   "execution_count": 5,
   "metadata": {
    "collapsed": true
   },
   "outputs": [],
   "source": [
    "### Example genome and transcript sequences\n",
    "genome_chr1 = \"ACTGTCATGTACGTTTAGCTAGCCTAGCTAGGGACCTAGATAATTTAGCTAG\"\n",
    "tr_chr1 = \"GTCATGTACTAGCCGGTAAGATAAT\""
   ]
  },
  {
   "cell_type": "markdown",
   "metadata": {},
   "source": [
    "### Tested several cases for the function \"transcript_coord_to_genome_coord\", now read query line by line"
   ]
  },
  {
   "cell_type": "code",
   "execution_count": 6,
   "metadata": {},
   "outputs": [
    {
     "name": "stdout",
     "output_type": "stream",
     "text": [
      "tr_remain 76\n",
      "-1\n"
     ]
    }
   ],
   "source": [
    "### When the tr_coord is too large\n",
    "hang = \"3\"\n",
    "cigar = \"8M7D6M2I2M11D7M\"\n",
    "tr_coord = \"100\"\n",
    "\n",
    "result = transcript_coord_to_genome_coord(hang, cigar, tr_coord)\n",
    "print(result)\n",
    "#print(\"genome_output\", result, \"tr_nt\", tr_chr1[int(tr_coord)], \"genome_nt\", genome_chr1[int(result)])"
   ]
  },
  {
   "cell_type": "code",
   "execution_count": 7,
   "metadata": {},
   "outputs": [
    {
     "name": "stdout",
     "output_type": "stream",
     "text": [
      "tr_remain 0\n",
      "genome_output 3 tr_nt G genome_nt G\n"
     ]
    }
   ],
   "source": [
    "### when the tr_coord is the first nucleotide\n",
    "hang = \"3\"\n",
    "cigar = \"8M7D6M2I2M11D7M\"\n",
    "tr_coord = \"0\"\n",
    "\n",
    "result = transcript_coord_to_genome_coord(hang, cigar, tr_coord)\n",
    "print(\"genome_output\", result, \"tr_nt\", tr_chr1[int(tr_coord)], \"genome_nt\", genome_chr1[int(result)])"
   ]
  },
  {
   "cell_type": "code",
   "execution_count": 8,
   "metadata": {},
   "outputs": [
    {
     "name": "stdout",
     "output_type": "stream",
     "text": [
      "tr_remain 0\n",
      "genome_output 7 tr_nt T genome_nt T\n"
     ]
    }
   ],
   "source": [
    "### when the tr_coord is in the first \"M\" part\n",
    "hang = \"3\"\n",
    "cigar = \"8M7D6M2I2M11D7M\"\n",
    "tr_coord = \"4\"\n",
    "\n",
    "result = transcript_coord_to_genome_coord(hang, cigar, tr_coord)\n",
    "print(\"genome_output\", result, \"tr_nt\", tr_chr1[int(tr_coord)], \"genome_nt\", genome_chr1[int(result)])"
   ]
  },
  {
   "cell_type": "code",
   "execution_count": 9,
   "metadata": {},
   "outputs": [
    {
     "name": "stdout",
     "output_type": "stream",
     "text": [
      "tr_remain 0\n",
      "genome_output 10 tr_nt A genome_nt A\n"
     ]
    }
   ],
   "source": [
    "### when the tr_coord is the last nt of the \"M\" part\n",
    "hang = \"3\"\n",
    "cigar = \"8M7D6M2I2M11D7M\"\n",
    "tr_coord = \"7\"\n",
    "\n",
    "result = transcript_coord_to_genome_coord(hang, cigar, tr_coord)\n",
    "print(\"genome_output\", result, \"tr_nt\", tr_chr1[int(tr_coord)], \"genome_nt\", genome_chr1[int(result)])"
   ]
  },
  {
   "cell_type": "code",
   "execution_count": 10,
   "metadata": {},
   "outputs": [
    {
     "name": "stdout",
     "output_type": "stream",
     "text": [
      "tr_remain 0\n",
      "genome_output 18 tr_nt C genome_nt C\n"
     ]
    }
   ],
   "source": [
    "### when the tr_coord is the first nt in \"M\" after a \"D\"\n",
    "hang = \"3\"\n",
    "cigar = \"8M7D6M2I2M11D7M\"\n",
    "tr_coord = \"8\"\n",
    "\n",
    "result = transcript_coord_to_genome_coord(hang, cigar, tr_coord)\n",
    "print(\"genome_output\", result, \"tr_nt\", tr_chr1[int(tr_coord)], \"genome_nt\", genome_chr1[int(result)])"
   ]
  },
  {
   "cell_type": "code",
   "execution_count": 11,
   "metadata": {},
   "outputs": [
    {
     "name": "stdout",
     "output_type": "stream",
     "text": [
      "tr_remain 0\n",
      "genome_output 19 tr_nt T genome_nt T\n"
     ]
    }
   ],
   "source": [
    "### when the tr_coord is the second nt in \"M\" after a \"D\"\n",
    "hang = \"3\"\n",
    "cigar = \"8M7D6M2I2M11D7M\"\n",
    "tr_coord = \"9\"\n",
    "\n",
    "result = transcript_coord_to_genome_coord(hang, cigar, tr_coord)\n",
    "print(\"genome_output\", result, \"tr_nt\", tr_chr1[int(tr_coord)], \"genome_nt\", genome_chr1[int(result)])"
   ]
  },
  {
   "cell_type": "code",
   "execution_count": 12,
   "metadata": {},
   "outputs": [
    {
     "name": "stdout",
     "output_type": "stream",
     "text": [
      "tr_remain 0\n",
      "genome_output 23 tr_nt C genome_nt C\n"
     ]
    }
   ],
   "source": [
    "### when the tr_coord is the last nt in \"M\" before \"I\"\n",
    "hang = \"3\"\n",
    "cigar = \"8M7D6M2I2M11D7M\"\n",
    "tr_coord = \"13\"\n",
    "\n",
    "result = transcript_coord_to_genome_coord(hang, cigar, tr_coord)\n",
    "print(\"genome_output\", result, \"tr_nt\", tr_chr1[int(tr_coord)], \"genome_nt\", genome_chr1[int(result)])"
   ]
  },
  {
   "cell_type": "code",
   "execution_count": 13,
   "metadata": {},
   "outputs": [
    {
     "name": "stdout",
     "output_type": "stream",
     "text": [
      "tr_remain 0\n",
      "genome_output 23 tr_nt G genome_nt C\n"
     ]
    }
   ],
   "source": [
    "### when the tr_coord is the first nt in \"I\"\n",
    "hang = \"3\"\n",
    "cigar = \"8M7D6M2I2M11D7M\"\n",
    "tr_coord = \"14\"\n",
    "\n",
    "result = transcript_coord_to_genome_coord(hang, cigar, tr_coord)\n",
    "print(\"genome_output\", result, \"tr_nt\", tr_chr1[int(tr_coord)], \"genome_nt\", genome_chr1[int(result)])"
   ]
  },
  {
   "cell_type": "code",
   "execution_count": 14,
   "metadata": {},
   "outputs": [
    {
     "name": "stdout",
     "output_type": "stream",
     "text": [
      "tr_remain 0\n",
      "genome_output 23 tr_nt G genome_nt C\n"
     ]
    }
   ],
   "source": [
    "### when the tr_coord is the last nt in \"I\"\n",
    "hang = \"3\"\n",
    "cigar = \"8M7D6M2I2M11D7M\"\n",
    "tr_coord = \"15\"\n",
    "\n",
    "result = transcript_coord_to_genome_coord(hang, cigar, tr_coord)\n",
    "print(\"genome_output\", result, \"tr_nt\", tr_chr1[int(tr_coord)], \"genome_nt\", genome_chr1[int(result)])"
   ]
  },
  {
   "cell_type": "code",
   "execution_count": 15,
   "metadata": {},
   "outputs": [
    {
     "name": "stdout",
     "output_type": "stream",
     "text": [
      "tr_remain 0\n",
      "genome_output 24 tr_nt T genome_nt T\n"
     ]
    }
   ],
   "source": [
    "### when the tr_coord is the first nt in \"M\" after the \"I\"\n",
    "hang = \"3\"\n",
    "cigar = \"8M7D6M2I2M11D7M\"\n",
    "tr_coord = \"16\"\n",
    "\n",
    "result = transcript_coord_to_genome_coord(hang, cigar, tr_coord)\n",
    "print(\"genome_output\", result, \"tr_nt\", tr_chr1[int(tr_coord)], \"genome_nt\", genome_chr1[int(result)])"
   ]
  },
  {
   "cell_type": "code",
   "execution_count": 16,
   "metadata": {},
   "outputs": [
    {
     "name": "stdout",
     "output_type": "stream",
     "text": [
      "tr_remain 0\n",
      "genome_output 25 tr_nt A genome_nt A\n"
     ]
    }
   ],
   "source": [
    "### when the tr_coord is the last nt in \"M\" before \"D\"\n",
    "hang = \"3\"\n",
    "cigar = \"8M7D6M2I2M11D7M\"\n",
    "tr_coord = \"17\"\n",
    "\n",
    "result = transcript_coord_to_genome_coord(hang, cigar, tr_coord)\n",
    "print(\"genome_output\", result, \"tr_nt\", tr_chr1[int(tr_coord)], \"genome_nt\", genome_chr1[int(result)])"
   ]
  },
  {
   "cell_type": "code",
   "execution_count": 17,
   "metadata": {},
   "outputs": [
    {
     "name": "stdout",
     "output_type": "stream",
     "text": [
      "tr_remain 0\n",
      "genome_output 37 tr_nt A genome_nt A\n"
     ]
    }
   ],
   "source": [
    "### when the tr_coord is the first nt in \"M\" after \"D\" \n",
    "hang = \"3\"\n",
    "cigar = \"8M7D6M2I2M11D7M\"\n",
    "tr_coord = \"18\"\n",
    "\n",
    "result = transcript_coord_to_genome_coord(hang, cigar, tr_coord)\n",
    "print(\"genome_output\", result, \"tr_nt\", tr_chr1[int(tr_coord)], \"genome_nt\", genome_chr1[int(result)])"
   ]
  },
  {
   "cell_type": "code",
   "execution_count": 18,
   "metadata": {},
   "outputs": [
    {
     "name": "stdout",
     "output_type": "stream",
     "text": [
      "tr_remain 0\n",
      "genome_output 43 tr_nt T genome_nt T\n"
     ]
    }
   ],
   "source": [
    "### when the tr_coord is the last index of the transcript\n",
    "hang = \"3\"\n",
    "cigar = \"8M7D6M2I2M11D7M\"\n",
    "tr_coord = \"24\"\n",
    "\n",
    "result = transcript_coord_to_genome_coord(hang, cigar, tr_coord)\n",
    "print(\"genome_output\", result, \"tr_nt\", tr_chr1[int(tr_coord)], \"genome_nt\", genome_chr1[int(result)])"
   ]
  },
  {
   "cell_type": "code",
   "execution_count": 19,
   "metadata": {},
   "outputs": [
    {
     "name": "stdout",
     "output_type": "stream",
     "text": [
      "tr_remain 1\n",
      "genome_output -1\n"
     ]
    }
   ],
   "source": [
    "### when the tr_coord is 1 nt out of the CIGAR\n",
    "hang = \"3\"\n",
    "cigar = \"8M7D6M2I2M11D7M\"\n",
    "tr_coord = \"25\"\n",
    "\n",
    "result = transcript_coord_to_genome_coord(hang, cigar, tr_coord)\n",
    "print(\"genome_output\", result)\n",
    "#print(\"genome_output\", result, \"tr_nt\", tr_chr1[int(tr_coord)], \"genome_nt\", genome_chr1[int(result)])"
   ]
  },
  {
   "cell_type": "markdown",
   "metadata": {},
   "source": [
    "### Try read-in and read-out files"
   ]
  },
  {
   "cell_type": "code",
   "execution_count": 20,
   "metadata": {},
   "outputs": [
    {
     "name": "stdout",
     "output_type": "stream",
     "text": [
      "        1   2                3\n",
      "0                             \n",
      "TR1  CHR1   3  8M7D6M2I2M11D7M\n",
      "TR2  CHR2  10              20M\n"
     ]
    }
   ],
   "source": [
    "Input_file_1 = pd.read_csv(\"/Users/huangz36/Documents/invitae_DC/example/input_file_1.txt\", sep=\"\\t\", header = None, index_col=0)\n",
    "print(Input_file_1.head())"
   ]
  },
  {
   "cell_type": "code",
   "execution_count": 21,
   "metadata": {},
   "outputs": [
    {
     "name": "stdout",
     "output_type": "stream",
     "text": [
      "CHR1 8M7D6M2I2M11D7M\n"
     ]
    }
   ],
   "source": [
    "trans_ID = \"TR1\"\n",
    "\n",
    "TR_chr, cigar = Input_file_1.loc[trans_ID, 1], Input_file_1.loc[trans_ID, 3]\n",
    "\n",
    "print(TR_chr, cigar)"
   ]
  },
  {
   "cell_type": "code",
   "execution_count": 22,
   "metadata": {},
   "outputs": [
    {
     "name": "stdout",
     "output_type": "stream",
     "text": [
      "tr_remain 0\n",
      "TR1\t4\tCHR1\t7\n",
      "tr_remain 0\n",
      "TR2\t0\tCHR2\t10\n",
      "tr_remain 0\n",
      "TR1\t13\tCHR1\t23\n",
      "tr_remain 0\n",
      "TR2\t10\tCHR2\t20\n"
     ]
    }
   ],
   "source": [
    "output_file = open(\"/Users/huangz36/Documents/invitae_DC/example/output_file.txt\", \"w\")\n",
    "\n",
    "## Save Input_file_1 as a DF for easy searching and matching, each TR is unique\n",
    "## Read Input_file_2 line by line\n",
    "Input_file_1 = pd.read_csv(\"/Users/huangz36/Documents/invitae_DC/example/input_file_1.txt\", sep=\"\\t\", header = None, index_col=0)\n",
    "Input_file_2 = open(\"/Users/huangz36/Documents/invitae_DC/example/input_file_2.txt\", \"r\")\n",
    "for line in Input_file_2:\n",
    "    trans_ID, tr_coord = line.strip().split(\"\\t\")[0], line.strip().split(\"\\t\")[1]\n",
    "    tr_chr, hang, cigar = Input_file_1.loc[trans_ID, 1], Input_file_1.loc[trans_ID, 2], Input_file_1.loc[trans_ID, 3]\n",
    "    \n",
    "    genome_coord = transcript_coord_to_genome_coord(hang, cigar, tr_coord)\n",
    "    L = [trans_ID, tr_coord, tr_chr, genome_coord]\n",
    "    print('\\t'.join(L))\n",
    "    output_file.write('\\t'.join(L))\n",
    "    output_file.write('\\n')\n",
    "    \n",
    "Input_file_2.close()\n",
    "output_file.close()"
   ]
  },
  {
   "cell_type": "markdown",
   "metadata": {},
   "source": [
    "### Construct argparse"
   ]
  },
  {
   "cell_type": "code",
   "execution_count": 23,
   "metadata": {},
   "outputs": [
    {
     "name": "stderr",
     "output_type": "stream",
     "text": [
      "usage: ipykernel_launcher.py [-h] --input_file_1_path INPUT_FILE_1_PATH\n",
      "                             --input_file_2_path INPUT_FILE_2_PATH\n",
      "                             --output_file_path OUTPUT_FILE_PATH\n",
      "ipykernel_launcher.py: error: the following arguments are required: --input_file_1_path, --input_file_2_path, --output_file_path\n"
     ]
    },
    {
     "ename": "SystemExit",
     "evalue": "2",
     "output_type": "error",
     "traceback": [
      "An exception has occurred, use %tb to see the full traceback.\n",
      "\u001b[0;31mSystemExit\u001b[0m\u001b[0;31m:\u001b[0m 2\n"
     ]
    },
    {
     "name": "stderr",
     "output_type": "stream",
     "text": [
      "/Users/huangz36/anaconda3/lib/python3.6/site-packages/IPython/core/interactiveshell.py:2870: UserWarning: To exit: use 'exit', 'quit', or Ctrl-D.\n",
      "  warn(\"To exit: use 'exit', 'quit', or Ctrl-D.\", stacklevel=1)\n"
     ]
    }
   ],
   "source": [
    "#!/usr/bin/env python3\n",
    "\n",
    "import argparse\n",
    "import logging\n",
    "import os\n",
    "import sys\n",
    "import pandas as pd\n",
    "import re\n",
    "\n",
    "def make_arg_parser():\n",
    "    parser = argparse.ArgumentParser(description='python3 trans_to_genome.py ' \\\n",
    "                                 '--input_file_1_path path to input file_1.txt' \\\n",
    "                                 '--input_file_2_path path to input file_2.txt' \\\n",
    "                                 '--output_file_path path to output file')\n",
    "    parser.add_argument(\"--input_file_1_path\", required=True)\n",
    "    parser.add_argument(\"--input_file_2_path\", required=True)\n",
    "    parser.add_argument(\"--output_file_path\", required=True)\n",
    "    return parser\n",
    "\n",
    "\n",
    "def main(argv):\n",
    "    # set up the parser\n",
    "    parser = make_arg_parser()\n",
    "    args = parser.parse_args()\n",
    "    if not args.input_file_1_path:\n",
    "        logging.error(\"---- invalid input_file_1\")\n",
    "    elif not os.path.isfile(args.input_file_1_path):\n",
    "        logging.error(\"---- empty input file 1\")\n",
    "    else:\n",
    "        input_file_1_path = args.input_file_1_path \n",
    "    if not args.input_file_2_path:\n",
    "        logging.error(\"---- invalid input_file_2\")\n",
    "    elif not os.path.isfile(args.input_file_2_path): \n",
    "        logging.error(\"---- empty input file 2\")\n",
    "    else:\n",
    "        input_file_2_path = input_file_2_path\n",
    "    if not args.output_file_path:\n",
    "        logging.error(\"--- invalid output file name\")\n",
    "    else:\n",
    "        output_file_path = args.output_file_path\n",
    "    # set up the log file\n",
    "    output_dir = \"/\".join(output_file_path.split(\"/\")[0:-1])\n",
    "    log_file_name = '{}/transcript_to_genomics_coord.log'.format(output_dir)\n",
    "    logging.basicConfig(filename=log_file_name, level = logging.INFO, format = '%(asctime)s:%(name)s:%(levelname)s:%(message)s')\n",
    "    logger = logging.getLogger('trans_to_genome')\n",
    "    if os.path.exists(log_file_name):\n",
    "        os.remove(log_file_name)\n",
    "    # set up output file\n",
    "    output_file = open(output_file_path, \"w\")\n",
    "    # read input_file_1 as a pandas df\n",
    "    input_file_1 = pd.read_csv(input_file_1_path, sep=\"\\t\", header = None, index_col=0)\n",
    "    # read input_file_2 line by line, calculate genomic coord, and write to output_file line by line \n",
    "    input_file_2 = open(input_file_2_path, \"r\")\n",
    "    for line in Input_file_2:\n",
    "        trans_ID, tr_coord = line.strip().split(\"\\t\")[0], line.strip().split(\"\\t\")[1]\n",
    "        tr_chr, hang, cigar = input_file_1.loc[trans_ID, 1], input_file_1.loc[trans_ID, 2], input_file_1.loc[trans_ID, 3]\n",
    "        genome_coord = transcript_coord_to_genome_coord(hang, cigar, tr_coord)\n",
    "        L = [trans_ID, tr_coord, tr_chr, genome_coord]\n",
    "        print('\\t'.join(L))\n",
    "        output_file.write('\\t'.join(L))\n",
    "        output_file.write('\\n')\n",
    "    input_file_2.close()\n",
    "    output_file.close()\n",
    "    logger.info(\"--- the conversion is complete\")\n",
    "\n",
    "if __name__ == \"__main__\":\n",
    "        main(sys.argv)"
   ]
  },
  {
   "cell_type": "markdown",
   "metadata": {},
   "source": [
    "## Other things to test and consider"
   ]
  },
  {
   "cell_type": "markdown",
   "metadata": {},
   "source": [
    "1. State any assumptions made\n",
    "  - Assume coordinate in transcript query always valid, cooridnate <= (M+I). If invalid, do not stop the execution, print out the genomic coordinate as \"-1\" instead\n",
    "2. Document key strength / weakness of the implementation\n",
    "  - The input_file_1 is read as a dataframe, by making the assumption that the transcript table is accessed multiple times, given a long query list\n",
    "  - When the input_file_1 is extremely big, need a more efficient way to search for the correct row with chromosome, hang and cigar information\n",
    "  - Memory efficiency is low when we need to use dataframe to save the input_file_1, use \"startwith\"\n",
    "3. Consider: \n",
    "  - Input_file_1 short, input_file_2 long (the current method, save the input_file_1 into a dataframe).\n",
    "  - Input_file_1 long, input_file_2 is short (use startwith, to scan through the transcript information sheet each query, and use no memory)\n",
    "4. Function level test cases please see the ipython notebook. Input level errors handled by the logging (eg. empty input, non-existing files)\n",
    "  - What if the transcript is impossible? (as long as cigar and genome mapping (0-based starting position) possible, col3 cannot be negative, col4 cannot contain illegal characters)\n",
    "    - Check column number\n",
    "    - Check content of column 3 and column 4\n",
    "  - What if the query is impossible\n",
    "    - The number is larger than the total length of the cigar string (sum of M + I)"
   ]
  }
 ],
 "metadata": {
  "kernelspec": {
   "display_name": "Python 3",
   "language": "python",
   "name": "python3"
  },
  "language_info": {
   "codemirror_mode": {
    "name": "ipython",
    "version": 3
   },
   "file_extension": ".py",
   "mimetype": "text/x-python",
   "name": "python",
   "nbconvert_exporter": "python",
   "pygments_lexer": "ipython3",
   "version": "3.6.2"
  }
 },
 "nbformat": 4,
 "nbformat_minor": 2
}
